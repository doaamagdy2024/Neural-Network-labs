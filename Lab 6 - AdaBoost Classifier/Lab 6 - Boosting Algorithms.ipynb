{
 "cells": [
  {
   "attachments": {},
   "cell_type": "markdown",
   "metadata": {},
   "source": [
    "# Lab 6 - Classifiers Boosting Algorithms\n",
    "\n",
    "In this lab, we will implement the AdaBoost algorithm as an ensemble learning technique which\n",
    "aims to combine a number of weak classifiers to yield a strong classifier at the end.\n",
    "The idea of this lab is to identify whether a tumor with given characteristics is malignant or\n",
    "benign. This is a two-class classification problem.\n",
    "\n",
    "## Dataset and Features\n",
    "\n",
    "You will be working on the dataset from *Hastie et al,* for breast tumor classification with 10 features representing the tumor's:\n",
    "\n",
    "                              1. Area            6. Texture\n",
    "                              2. Perimeter       7. Symmetry\n",
    "                              3. Radius          8. Greyscale Level\n",
    "                              4. Compactness     9. Fractal Dimension\n",
    "                              5. Concavity      10. Coastline Approximation.\n",
    "There is one output variable which is diagnosis. It takes one of two values `+1` for malignant and `-1` for benign."
   ]
  },
  {
   "cell_type": "markdown",
   "metadata": {},
   "source": [
    "### Question 1:\n",
    "Why it is sometimes better to have the two class values `+1` and `-1` instead of `+1`\n",
    "and `0`?\\\n",
    "**HINT :** Think about the voting scheme at the end of the boosting algorithm. How can the class values\n",
    "affect this scheme?"
   ]
  },
  {
   "cell_type": "code",
   "execution_count": 64,
   "metadata": {},
   "outputs": [
    {
     "data": {
      "text/plain": [
       "\"\\n    Your answer: \\n    so that we can get the weighted prediction of the data\\n    it will help us to take the majority vote \\n    then we can calculate the accuracy\\n\\n    if we use 1 and 0, then we can't multiply by the new weights as anything multiplied by 0 is 0\\n\""
      ]
     },
     "execution_count": 64,
     "metadata": {},
     "output_type": "execute_result"
    }
   ],
   "source": [
    "'''\n",
    "    Your answer: \n",
    "    so that we can get the weighted prediction of the data\n",
    "    it will help us to take the majority vote \n",
    "    then we can calculate the accuracy\n",
    "\n",
    "    if we use 1 and 0, then we can't multiply by the new weights as anything multiplied by 0 is 0\n",
    "'''"
   ]
  },
  {
   "attachments": {},
   "cell_type": "markdown",
   "metadata": {},
   "source": [
    "## Requirement\n",
    "You are required to fill the function `adaboost_classifier(Y_train, X_train, Y_test, X_test, T, clf).`\\\n",
    "This function takes as parameters:\n",
    "\n",
    "| | |\n",
    "|:---|:-|\n",
    "| **Y_train**| The target values for the training set |\n",
    "| **X_train**| The input features for the training set.|\n",
    "| **Y_test**| The target values for the test set.|\n",
    "| **X_test**| The input features for the training set.|\n",
    "| **T**| The number of iterations of the AdaBoost Algorithm.|\n",
    "| **clf**| The classifier to be used. (In our case, we are using a decision tree stump as a base classifier). You can use any other classifier.|\n",
    "\n",
    "This function should return two values:\n",
    "- The accuracy of the model on the training set.\n",
    "- The accuracy of the model on the test set.\n",
    "\n",
    "\n",
    "#### Fair Note:\n",
    "In the explanation video, we assumed that (T) is the number of models you want to fit. However, this is not always the case. You may have a model base (like here we have decision trees) and you are allowed to use as many of it as you can. So (T) here becomes the number of iterations where your goal is to enhance the performance with as few iterations as possible. \n",
    "\n",
    "Do not get confused:\n",
    "- If your case is you have T models only, we set T = number of models to fit.\n",
    "- If you are allowed to use as many models as you can (as many decision trees as you need), then T is the number of iterations to choose. In such case, T becomes a parameter controlled by the programmer."
   ]
  },
  {
   "cell_type": "code",
   "execution_count": 65,
   "metadata": {},
   "outputs": [],
   "source": [
    "## imports ##\n",
    "import pandas as pd\n",
    "import numpy as np\n",
    "from sklearn.tree import DecisionTreeClassifier\n",
    "from sklearn.model_selection import train_test_split\n",
    "from sklearn.datasets import make_hastie_10_2\n",
    "\n",
    "import utils"
   ]
  },
  {
   "cell_type": "markdown",
   "metadata": {},
   "source": [
    "**NOTE** we prepared some utility functions to help you throughout the lab. please go and check the file *utils.py* and make sure you understand each function and know how to use it.\n",
    "\n",
    "### TODO: AdaBoost Implementation\n",
    "\n",
    "AdaBoost is an iterative algorithm that gives weights for the best classifier every iteration, updates weights of the data points, then repeats until convergence.\n",
    "\n",
    "The steps of the algorithm are:\n",
    "\n",
    "1. Initialize weights of the training examples:\n",
    "\n",
    "$$w_{m} = \\frac {1}{M}, m = 1,2,...M$$\n",
    "\n",
    "                                        M: number of training examples. \n",
    "\n",
    "2. For t=1 to $T$:\n",
    "\n",
    "    a) Select a classifier $h_{t}$ that best fits to the training data using weights $w_{m}$ of the training examples.\n",
    "\n",
    "    b) Compute error of $h_{t}$ as:\n",
    "$$err_{t} = \\frac {\\Sigma_{m=1}^{M} w_{m} \\phi (c_{m} \\neq h_{t}(x_{m}))}{\\Sigma_{m=1}^{M} w_{m}}$$\n",
    "\n",
    "    c) Compute weight of classifier:\n",
    "$$\\alpha_{t} = \\log (\\frac {1-err_{t}}{err_{t}} )$$\n",
    "\n",
    "    d) Update weights of wrongly classified examples:\n",
    "$$w_{m} = w_{m} * \\exp^{\\alpha_{t} \\phi (c_{m} \\neq h_{t}(x_{m}))}, \\space m = 1 ... M$$\n",
    "\n",
    "    e) Renormalize weights $w_{m}$\n",
    "\n",
    "\n",
    "\\\n",
    "3. Output: $C(x)= argmax_{k}\\space (\\space \\Sigma_{t=1}^{T} \\alpha_{t} * \\phi (h_{t}(x) = k)) \\space)$\n",
    "\n",
    "**Where** in step 2.B and 2.D, the $\\phi (y)$ function is called the *miss indicator* function that gives values:\n",
    "\n",
    "                                     1: if y is True\n",
    "                                     0: if y is False"
   ]
  },
  {
   "cell_type": "code",
   "execution_count": 66,
   "metadata": {},
   "outputs": [],
   "source": [
    "def adaboost_classifier(Y_train, X_train, Y_test, X_test, T, clf):\n",
    "    \n",
    "    #TODO: FILL THE FUNCTION with the implementation as the steps above\n",
    "\n",
    "    # TODO [1]: Initialize weights\n",
    "    # this array should be of the same length as the number of training examples\n",
    "    # and should be initialized with 1/len(X_train)\n",
    "    # w = np.array([1 / len(X_train) for x in X_train]) --> look @ the third cell to know why we can't use this\n",
    "    w = np.ones(len(X_train)) / len(X_train) ## weights of the training examples\n",
    "    \n",
    "    ## TODO [2]:  Initialize the training and test data with empty array placeholders\n",
    "    #### Hint: what should be their shape?\n",
    "    # for each iteration, we will store the predicted class for each example in the traiing and test set\n",
    "    pred_train = np.zeros((T, len(Y_train))) ## predicted classes of the training examples\n",
    "    pred_test = np.zeros((T, len(Y_test)))  ## predicted classes of the test examples\n",
    "\n",
    "    ## TODO [3]: loop over the boosting iterations \n",
    "    for i in range(T): \n",
    "\n",
    "        # TODO [4]: Fit a classifier with the specific weights \n",
    "        ## TODO [4.A]: fit the classifier on the training data\n",
    "        #### Hint: search how sklearn.tree.DecisionTreeClassifier fits classifier on data\n",
    "        ### Hint: search for parameter weights in the fit matrix\n",
    "        clf = clf.fit(X_train, Y_train, w)\n",
    "\n",
    "        # TODO [4.B]: predict classes for the training data and test data\n",
    "        pred_train[i] = clf.predict(X_train)\n",
    "        pred_test[i] = clf.predict(X_test)\n",
    "        \n",
    "\n",
    "        # TODO [5]: calculate the miss Indicator function\n",
    "        miss = pred_train[i] != Y_train\n",
    "        \n",
    "        # TODO [6]: calculate the error for the current classifier (err_t)\n",
    "        err_t = np.sum(np.multiply(w, miss)) / np.sum(w)  # to ask --> multiply or dot product and why?\n",
    "        \n",
    "        # TODO [7]: calculate current classifier weight (Alpha_t)\n",
    "        alpha_t = np.log((1 - err_t) / err_t)\n",
    "        \n",
    "        # TODO [8]: update the weights \n",
    "        w = np.multiply(w, np.exp(np.multiply(alpha_t, miss)))\n",
    "        \n",
    "        # TODO [9] Add to the overall predictions --> why doing this step?\n",
    "        # before this step pred_train is either 1 or -1 as we have only 2 classes so we multiply it by alpha_t to get the weighted sum when we compute the accuracy\n",
    "        # as after the loop, we will sum all the predictions and then take the sign of the sum to get the final prediction --> majority voting\n",
    "        pred_train[i] = np.multiply(alpha_t, pred_train[i])  # to ask\n",
    "        pred_test[i] = np.multiply(alpha_t, pred_test[i])  # to ask\n",
    "\n",
    "        \n",
    "    # TODO [10]: Return error rate in train and test set\n",
    "    #### Hint: use function get_accuracy from utils.py\n",
    "    # we will add the predictions of all the classifiers and then take the sign of the sum to get the final prediction whether -1 or 1\n",
    "    train_error = utils.get_accuracy(np.sign(np.sum(pred_train, axis=0)), Y_train)\n",
    "    test_error = utils.get_accuracy(np.sign(np.sum(pred_test, axis=0)), Y_test)\n",
    "    return train_error, test_error"
   ]
  },
  {
   "cell_type": "markdown",
   "metadata": {},
   "source": [
    "### Testing the Boosted Classifier\n",
    "\n",
    "Now we will use the function you implemented to build a classifer.\\\n",
    "You will not change code here, only read the code below and run it to see how **AdaBoost** enhanced the performance."
   ]
  },
  {
   "cell_type": "code",
   "execution_count": 67,
   "metadata": {},
   "outputs": [
    {
     "name": "stdout",
     "output_type": "stream",
     "text": [
      "Reading Data ...\n",
      "Number of Iterations :  10\n",
      "Number of Iterations :  60\n",
      "Number of Iterations :  110\n",
      "Number of Iterations :  160\n",
      "Number of Iterations :  210\n",
      "Number of Iterations :  260\n",
      "Number of Iterations :  310\n",
      "Number of Iterations :  360\n"
     ]
    },
    {
     "name": "stderr",
     "output_type": "stream",
     "text": [
      "d:\\Academic_college\\Third_Year\\Second_Term\\Neural_Network\\Labs\\Labs_Repo\\Neural-Network-labs\\Lab 6 - AdaBoost Classifier\\utils.py:20: UserWarning: FixedFormatter should only be used together with FixedLocator\n",
      "  plot1.set_xticklabels(range(0, 450, 50))\n"
     ]
    },
    {
     "data": {
      "image/png": "[encoded data removed]",
      "text/plain": [
       "<Figure size 800x600 with 1 Axes>"
      ]
     },
     "metadata": {},
     "output_type": "display_data"
    }
   ],
   "source": [
    "#### DO NOT CHANGE CODE ####\n",
    "\n",
    "## First, read the dataset\n",
    "x,y = make_hastie_10_2()\n",
    "df = pd.DataFrame(x)\n",
    "df['Y'] = y\n",
    "print('Reading Data ...')\n",
    "\n",
    "# Split into training and test set\n",
    "train, test = train_test_split(df, test_size=0.2) # this function shuffles the data points, and splits the data into\n",
    "                                                  # 80% training set and 20% test set (indicated by test_size=0.2)\n",
    "\n",
    "\n",
    "X_train, Y_train = train.iloc[:, :-1], train.iloc[:, -1]\n",
    "X_test, Y_test = test.iloc[:, :-1], test.iloc[:, -1]\n",
    "# Fit a simple decision tree first\n",
    "clf_tree = DecisionTreeClassifier(max_depth=1, random_state=1)\n",
    "\n",
    "# Fit Adaboost classifier using a decision tree as base estimator\n",
    "# Test with different number of iterations\n",
    "acc_train, acc_test = [],[]\n",
    "x_range = range(10, 410, 50)\n",
    "for i in x_range:\n",
    "    print('Number of Iterations : ' , i)\n",
    "    acc_i = adaboost_classifier(Y_train, X_train, Y_test, X_test, i, clf_tree)\n",
    "    acc_train.append(acc_i[0])\n",
    "    acc_test.append(acc_i[1])\n",
    "\n",
    "# Compare error rate vs number of iterations\n",
    "utils.plot_accuracy(acc_train, acc_test)"
   ]
  },
  {
   "cell_type": "code",
   "execution_count": 68,
   "metadata": {},
   "outputs": [
    {
     "name": "stdout",
     "output_type": "stream",
     "text": [
      "9600\n",
      "(9600, 10)\n",
      "[0.00010417 0.00010417 0.00010417 ... 0.00010417 0.00010417 0.00010417]\n",
      "<class 'numpy.ndarray'>\n",
      "(9600,)\n",
      "-------------------------------------------\n",
      "[0.00010417 0.00010417 0.00010417 0.00010417 0.00010417 0.00010417\n",
      " 0.00010417 0.00010417 0.00010417 0.00010417]\n",
      "<class 'numpy.ndarray'>\n",
      "(10,)\n"
     ]
    }
   ],
   "source": [
    "# this code is for me \n",
    "print(len(X_train))\n",
    "print(X_train.shape)\n",
    "w1 = np.ones(len(X_train)) / len(X_train)\n",
    "print(w1)\n",
    "print(type(w1))\n",
    "print(w1.shape)\n",
    "w2 = np.array([1 / len(X_train) for x in X_train])\n",
    "print('-------------------------------------------')\n",
    "print (w2)\n",
    "print(type(w2))\n",
    "print(w2.shape)"
   ]
  },
  {
   "cell_type": "markdown",
   "metadata": {},
   "source": [
    "### Question 2:\n",
    "Justify why the plot is the way it is (is it increasing or decreasing? why? when does it flattens out?)"
   ]
  },
  {
   "cell_type": "code",
   "execution_count": 69,
   "metadata": {},
   "outputs": [
    {
     "data": {
      "text/plain": [
       "\"\\n    Your answer:\\n    it is increasing \\n    As the number of iterations increases, the accuracy increases because in each iteration, the classifier is trained on \\n    the data points that were misclassified in the previous iteration so it learns from its mistakes\\n    but we can see that as the iterations increases much, the accuracy doesn't increase much (i.e., the rate of increase becomes very low)\\n    \\n    it will converge (flatten out) at some point as the classifier will not learn much from the previous iterations\\n    i.e., no update will be done to the weights of the data points as the classifier will not misclassify any data point\\n\\n    we can notice that at some point in some runs (as each run gives different result) the accuracy may decrease slightly then increases again. \\n    this may be wrong or irrelevant updates from the boosting algorithm during this interval, \\n    then the model recovers from it and continues improving until flattened out (convergence).\\n\\n    here in the algorithm we iterate a fixed number of iterations (T) and we don't stop when the accuracy converges\\n\""
      ]
     },
     "execution_count": 69,
     "metadata": {},
     "output_type": "execute_result"
    }
   ],
   "source": [
    "'''\n",
    "    Your answer:\n",
    "    it is increasing \n",
    "    As the number of iterations increases, the accuracy increases because in each iteration, the classifier is trained on \n",
    "    the data points that were misclassified in the previous iteration so it learns from its mistakes\n",
    "    but we can see that as the iterations increases much, the accuracy doesn't increase much (i.e., the rate of increase becomes very low)\n",
    "    \n",
    "    it will converge (flatten out) at some point as the classifier will not learn much from the previous iterations\n",
    "    i.e., no update will be done to the weights of the data points as the classifier will not misclassify any data point\n",
    "\n",
    "    we can notice that at some point in some runs (as each run gives different result) the accuracy may decrease slightly then increases again. \n",
    "    this may be wrong or irrelevant updates from the boosting algorithm during this interval, \n",
    "    then the model recovers from it and continues improving until flattened out (convergence).\n",
    "\n",
    "    here in the algorithm we iterate a fixed number of iterations (T) and we don't stop when the accuracy converges\n",
    "'''"
   ]
  },
  {
   "cell_type": "markdown",
   "metadata": {},
   "source": [
    "### Question 3\n",
    "\n",
    "The number of iterations (T) is what we call a hyper parameter:\n",
    "   - Its value differs from model to model and from problem to problem.\n",
    "   - Its value is not learnt by time, it is set by the programmer.\n",
    "   \n",
    "Suggest ways to select the optimal T keeping in mind that:\n",
    "   - If T is too big, the training time is large (you loop for T times, each time takes a model to fit and this model might take hours to fit)\n",
    "   - If T is too small, the boosting might not reach the best values it can get.\n",
    "   \n",
    "   \n",
    "\n",
    "**HINT**: Look at the graph of number of iterations vs performance and search for elbow method. Try to understand it and explain what it does.\\\n",
    "**HINT**: There are other hyper-parameter selection techniques, search for them as well."
   ]
  },
  {
   "cell_type": "code",
   "execution_count": 70,
   "metadata": {},
   "outputs": [
    {
     "data": {
      "text/plain": [
       "'\\n    Your answer:\\n    Early stopping: Monitor the performance of the boosting classifier on a validation set during training and stop \\n    when the performance stops improving or starts to degrade. This can help avoid overfitting and reduce training time.\\n\\n    Learning curves: Plot learning curves that show how the performance of the boosting classifier changes as a function of T. \\n    This can help identify whether increasing T will lead to significant improvements in performance or not.\\n\\n    Domain knowledge: Use domain knowledge to estimate an appropriate range for T based on prior experience or \\n    knowledge about similar problems. This can provide a good starting point for further experimentation and tuning.\\n\\n    Grid search: Use grid search to find a good value for T. This can be useful if the range of values for T is large\\n          \\n          --------------------------------------------------------------------------------------------------\\n\\n    Elbow method involves plotting the performance metric (such as accuracy or AUC) against the number of iterations T \\n    and identifying the point where the performance starts to plateau. This point is known as the \"elbow\" and represents the\\n    optimal value of T where further iterations do not significantly improve performance.\\n          --------------------------------------------------------------------------------------------------\\n\\n    In cluster analysis, the elbow method is a heuristic used in determining the number of clusters in a data set (K-means). \\n    The method consists of plotting the explained variation as a function of the number of clusters and picking the elbow of the curve \\n    as the number of clusters to use. The same method can be used to choose the number of parameters in other data-driven models, \\n    such as: the number of principal components to describe a data set - T in adaBoost \\n   \\n'"
      ]
     },
     "execution_count": 70,
     "metadata": {},
     "output_type": "execute_result"
    }
   ],
   "source": [
    "'''\n",
    "    Your answer:\n",
    "    Early stopping: Monitor the performance of the boosting classifier on a validation set during training and stop \n",
    "    when the performance stops improving or starts to degrade. This can help avoid overfitting and reduce training time.\n",
    "\n",
    "    Learning curves: Plot learning curves that show how the performance of the boosting classifier changes as a function of T. \n",
    "    This can help identify whether increasing T will lead to significant improvements in performance or not.\n",
    "\n",
    "    Domain knowledge: Use domain knowledge to estimate an appropriate range for T based on prior experience or \n",
    "    knowledge about similar problems. This can provide a good starting point for further experimentation and tuning.\n",
    "\n",
    "    Grid search: Use grid search to find a good value for T. This can be useful if the range of values for T is large\n",
    "          \n",
    "          --------------------------------------------------------------------------------------------------\n",
    "\n",
    "    Elbow method involves plotting the performance metric (such as accuracy or AUC) against the number of iterations T \n",
    "    and identifying the point where the performance starts to plateau. This point is known as the \"elbow\" and represents the\n",
    "    optimal value of T where further iterations do not significantly improve performance.\n",
    "          --------------------------------------------------------------------------------------------------\n",
    "\n",
    "    In cluster analysis, the elbow method is a heuristic used in determining the number of clusters in a data set (K-means). \n",
    "    The method consists of plotting the explained variation as a function of the number of clusters and picking the elbow of the curve \n",
    "    as the number of clusters to use. The same method can be used to choose the number of parameters in other data-driven models, \n",
    "    such as: the number of principal components to describe a data set - T in adaBoost \n",
    "   \n",
    "'''"
   ]
  }
 ],
 "metadata": {
  "kernelspec": {
   "display_name": "Python 3",
   "language": "python",
   "name": "python3"
  },
  "language_info": {
   "codemirror_mode": {
    "name": "ipython",
    "version": 3
   },
   "file_extension": ".py",
   "mimetype": "text/x-python",
   "name": "python",
   "nbconvert_exporter": "python",
   "pygments_lexer": "ipython3",
   "version": "3.10.1"
  }
 },
 "nbformat": 4,
 "nbformat_minor": 4
}
